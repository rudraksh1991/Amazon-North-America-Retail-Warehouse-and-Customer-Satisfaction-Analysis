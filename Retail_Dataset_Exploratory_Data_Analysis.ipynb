{
 "cells": [
  {
   "cell_type": "code",
   "execution_count": 157,
   "id": "63daebb9",
   "metadata": {},
   "outputs": [],
   "source": [
    "#Importing required libraries\n",
    "import os\n",
    "import numpy as np # linear algebra\n",
    "import pandas as pd # data processing, CSV file I/O (e.g. pd.read_csv)\n",
    "import matplotlib.pyplot as plt\n",
    "import seaborn as sns\n",
    "import warnings\n",
    "warnings.filterwarnings('ignore')"
   ]
  },
  {
   "cell_type": "code",
   "execution_count": 158,
   "id": "e7ff4fc1",
   "metadata": {},
   "outputs": [],
   "source": [
    "# assigning path of eda.csv file to variable eda_data_path\n",
    "eda_data_path = 'D:\\Amazon_Project\\exploratory_data_analysis_file.csv'"
   ]
  },
  {
   "cell_type": "code",
   "execution_count": 159,
   "id": "97467ab8",
   "metadata": {},
   "outputs": [],
   "source": [
    "#Reading csv file\n",
    "eda_data = pd.read_csv(eda_data_path)"
   ]
  },
  {
   "cell_type": "code",
   "execution_count": 160,
   "id": "fc707434",
   "metadata": {},
   "outputs": [
    {
     "data": {
      "text/html": [
       "<div>\n",
       "<style scoped>\n",
       "    .dataframe tbody tr th:only-of-type {\n",
       "        vertical-align: middle;\n",
       "    }\n",
       "\n",
       "    .dataframe tbody tr th {\n",
       "        vertical-align: top;\n",
       "    }\n",
       "\n",
       "    .dataframe thead th {\n",
       "        text-align: right;\n",
       "    }\n",
       "</style>\n",
       "<table border=\"1\" class=\"dataframe\">\n",
       "  <thead>\n",
       "    <tr style=\"text-align: right;\">\n",
       "      <th></th>\n",
       "      <th>order_id</th>\n",
       "      <th>customer_id</th>\n",
       "      <th>date</th>\n",
       "      <th>nearest_warehouse</th>\n",
       "      <th>shopping_cart</th>\n",
       "      <th>order_price</th>\n",
       "      <th>delivery_charges</th>\n",
       "      <th>customer_lat</th>\n",
       "      <th>customer_long</th>\n",
       "      <th>coupon_discount</th>\n",
       "      <th>order_total</th>\n",
       "      <th>season</th>\n",
       "      <th>is_expedited_delivery</th>\n",
       "      <th>distance_to_nearest_warehouse</th>\n",
       "      <th>latest_customer_review</th>\n",
       "      <th>is_happy_customer</th>\n",
       "    </tr>\n",
       "  </thead>\n",
       "  <tbody>\n",
       "    <tr>\n",
       "      <th>0</th>\n",
       "      <td>ORD182494</td>\n",
       "      <td>ID6197211592</td>\n",
       "      <td>22-06-2019</td>\n",
       "      <td>Arizona</td>\n",
       "      <td>[('Lucent 330S', 1), ('Thunder line', 2), ('iS...</td>\n",
       "      <td>12200</td>\n",
       "      <td>79.89</td>\n",
       "      <td>-37.815105</td>\n",
       "      <td>144.932843</td>\n",
       "      <td>10</td>\n",
       "      <td>11059.89</td>\n",
       "      <td>Winter</td>\n",
       "      <td>True</td>\n",
       "      <td>1.2800</td>\n",
       "      <td>perfect phone and trusted seller. phone itself...</td>\n",
       "      <td>True</td>\n",
       "    </tr>\n",
       "    <tr>\n",
       "      <th>1</th>\n",
       "      <td>ORD395518</td>\n",
       "      <td>ID0282825849</td>\n",
       "      <td>29-12-2019</td>\n",
       "      <td>Arizona</td>\n",
       "      <td>[('Thunder line', 1), ('Universe Note', 2)]</td>\n",
       "      <td>9080</td>\n",
       "      <td>62.71</td>\n",
       "      <td>-37.802736</td>\n",
       "      <td>144.951118</td>\n",
       "      <td>0</td>\n",
       "      <td>9142.71</td>\n",
       "      <td>Summer</td>\n",
       "      <td>False</td>\n",
       "      <td>1.1621</td>\n",
       "      <td>it keeps dropping calls the wifi don't work th...</td>\n",
       "      <td>False</td>\n",
       "    </tr>\n",
       "    <tr>\n",
       "      <th>2</th>\n",
       "      <td>ORD494479</td>\n",
       "      <td>ID0579391891</td>\n",
       "      <td>02-03-2019</td>\n",
       "      <td>Arkansas</td>\n",
       "      <td>[('Thunder line', 1), ('pearTV', 2)]</td>\n",
       "      <td>10670</td>\n",
       "      <td>65.87</td>\n",
       "      <td>-37.821302</td>\n",
       "      <td>144.957581</td>\n",
       "      <td>10</td>\n",
       "      <td>9668.87</td>\n",
       "      <td>Autumn</td>\n",
       "      <td>False</td>\n",
       "      <td>1.0949</td>\n",
       "      <td>five stars this is a great cheap phone.</td>\n",
       "      <td>True</td>\n",
       "    </tr>\n",
       "    <tr>\n",
       "      <th>3</th>\n",
       "      <td>ORD019224</td>\n",
       "      <td>ID4544561904</td>\n",
       "      <td>12-01-2019</td>\n",
       "      <td>Arkansas</td>\n",
       "      <td>[('Universe Note', 1), ('Alcon 10', 2), ('Oliv...</td>\n",
       "      <td>24800</td>\n",
       "      <td>57.61</td>\n",
       "      <td>-37.811416</td>\n",
       "      <td>144.973073</td>\n",
       "      <td>15</td>\n",
       "      <td>21137.61</td>\n",
       "      <td>Summer</td>\n",
       "      <td>False</td>\n",
       "      <td>0.8571</td>\n",
       "      <td>charger did not fit the charger didn't fit.</td>\n",
       "      <td>False</td>\n",
       "    </tr>\n",
       "    <tr>\n",
       "      <th>4</th>\n",
       "      <td>ORD104032</td>\n",
       "      <td>ID6231506320</td>\n",
       "      <td>28-11-2019</td>\n",
       "      <td>Arkansas</td>\n",
       "      <td>[('Universe Note', 1), ('Olivia x460', 1), ('i...</td>\n",
       "      <td>9145</td>\n",
       "      <td>75.54</td>\n",
       "      <td>37.823859</td>\n",
       "      <td>144.969892</td>\n",
       "      <td>25</td>\n",
       "      <td>6934.29</td>\n",
       "      <td>Spring</td>\n",
       "      <td>False</td>\n",
       "      <td>0.5867</td>\n",
       "      <td>four stars good</td>\n",
       "      <td>True</td>\n",
       "    </tr>\n",
       "  </tbody>\n",
       "</table>\n",
       "</div>"
      ],
      "text/plain": [
       "    order_id   customer_id        date nearest_warehouse  \\\n",
       "0  ORD182494  ID6197211592  22-06-2019           Arizona   \n",
       "1  ORD395518  ID0282825849  29-12-2019           Arizona   \n",
       "2  ORD494479  ID0579391891  02-03-2019          Arkansas   \n",
       "3  ORD019224  ID4544561904  12-01-2019          Arkansas   \n",
       "4  ORD104032  ID6231506320  28-11-2019          Arkansas   \n",
       "\n",
       "                                       shopping_cart  order_price  \\\n",
       "0  [('Lucent 330S', 1), ('Thunder line', 2), ('iS...        12200   \n",
       "1        [('Thunder line', 1), ('Universe Note', 2)]         9080   \n",
       "2               [('Thunder line', 1), ('pearTV', 2)]        10670   \n",
       "3  [('Universe Note', 1), ('Alcon 10', 2), ('Oliv...        24800   \n",
       "4  [('Universe Note', 1), ('Olivia x460', 1), ('i...         9145   \n",
       "\n",
       "   delivery_charges  customer_lat  customer_long  coupon_discount  \\\n",
       "0             79.89    -37.815105     144.932843               10   \n",
       "1             62.71    -37.802736     144.951118                0   \n",
       "2             65.87    -37.821302     144.957581               10   \n",
       "3             57.61    -37.811416     144.973073               15   \n",
       "4             75.54     37.823859     144.969892               25   \n",
       "\n",
       "   order_total  season  is_expedited_delivery  distance_to_nearest_warehouse  \\\n",
       "0     11059.89  Winter                   True                         1.2800   \n",
       "1      9142.71  Summer                  False                         1.1621   \n",
       "2      9668.87  Autumn                  False                         1.0949   \n",
       "3     21137.61  Summer                  False                         0.8571   \n",
       "4      6934.29  Spring                  False                         0.5867   \n",
       "\n",
       "                              latest_customer_review  is_happy_customer  \n",
       "0  perfect phone and trusted seller. phone itself...               True  \n",
       "1  it keeps dropping calls the wifi don't work th...              False  \n",
       "2            five stars this is a great cheap phone.               True  \n",
       "3        charger did not fit the charger didn't fit.              False  \n",
       "4                                    four stars good               True  "
      ]
     },
     "execution_count": 160,
     "metadata": {},
     "output_type": "execute_result"
    }
   ],
   "source": [
    "# display top 5 rows\n",
    "eda_data.head()  "
   ]
  },
  {
   "cell_type": "code",
   "execution_count": 161,
   "id": "487ac472",
   "metadata": {},
   "outputs": [
    {
     "data": {
      "text/html": [
       "<div>\n",
       "<style scoped>\n",
       "    .dataframe tbody tr th:only-of-type {\n",
       "        vertical-align: middle;\n",
       "    }\n",
       "\n",
       "    .dataframe tbody tr th {\n",
       "        vertical-align: top;\n",
       "    }\n",
       "\n",
       "    .dataframe thead th {\n",
       "        text-align: right;\n",
       "    }\n",
       "</style>\n",
       "<table border=\"1\" class=\"dataframe\">\n",
       "  <thead>\n",
       "    <tr style=\"text-align: right;\">\n",
       "      <th></th>\n",
       "      <th>order_price</th>\n",
       "      <th>delivery_charges</th>\n",
       "      <th>customer_lat</th>\n",
       "      <th>customer_long</th>\n",
       "      <th>coupon_discount</th>\n",
       "      <th>order_total</th>\n",
       "      <th>distance_to_nearest_warehouse</th>\n",
       "    </tr>\n",
       "  </thead>\n",
       "  <tbody>\n",
       "    <tr>\n",
       "      <th>count</th>\n",
       "      <td>500.000000</td>\n",
       "      <td>500.000000</td>\n",
       "      <td>500.000000</td>\n",
       "      <td>500.000000</td>\n",
       "      <td>500.000000</td>\n",
       "      <td>5.000000e+02</td>\n",
       "      <td>500.000000</td>\n",
       "    </tr>\n",
       "    <tr>\n",
       "      <th>mean</th>\n",
       "      <td>25522.216000</td>\n",
       "      <td>76.658200</td>\n",
       "      <td>-35.835234</td>\n",
       "      <td>144.969494</td>\n",
       "      <td>10.890000</td>\n",
       "      <td>3.920967e+04</td>\n",
       "      <td>2.204224</td>\n",
       "    </tr>\n",
       "    <tr>\n",
       "      <th>std</th>\n",
       "      <td>86333.729169</td>\n",
       "      <td>14.481465</td>\n",
       "      <td>12.045393</td>\n",
       "      <td>0.022720</td>\n",
       "      <td>8.649134</td>\n",
       "      <td>2.741940e+05</td>\n",
       "      <td>8.812416</td>\n",
       "    </tr>\n",
       "    <tr>\n",
       "      <th>min</th>\n",
       "      <td>585.000000</td>\n",
       "      <td>46.350000</td>\n",
       "      <td>-37.827123</td>\n",
       "      <td>144.924967</td>\n",
       "      <td>0.000000</td>\n",
       "      <td>6.392900e+02</td>\n",
       "      <td>0.107800</td>\n",
       "    </tr>\n",
       "    <tr>\n",
       "      <th>25%</th>\n",
       "      <td>7050.000000</td>\n",
       "      <td>65.982500</td>\n",
       "      <td>-37.818222</td>\n",
       "      <td>144.953488</td>\n",
       "      <td>5.000000</td>\n",
       "      <td>6.454735e+03</td>\n",
       "      <td>0.751425</td>\n",
       "    </tr>\n",
       "    <tr>\n",
       "      <th>50%</th>\n",
       "      <td>12807.500000</td>\n",
       "      <td>76.310000</td>\n",
       "      <td>-37.812165</td>\n",
       "      <td>144.965357</td>\n",
       "      <td>10.000000</td>\n",
       "      <td>1.129396e+04</td>\n",
       "      <td>1.030100</td>\n",
       "    </tr>\n",
       "    <tr>\n",
       "      <th>75%</th>\n",
       "      <td>20360.000000</td>\n",
       "      <td>82.555000</td>\n",
       "      <td>-37.805364</td>\n",
       "      <td>144.983985</td>\n",
       "      <td>15.000000</td>\n",
       "      <td>1.811919e+04</td>\n",
       "      <td>1.408625</td>\n",
       "    </tr>\n",
       "    <tr>\n",
       "      <th>max</th>\n",
       "      <td>947691.000000</td>\n",
       "      <td>114.040000</td>\n",
       "      <td>37.826339</td>\n",
       "      <td>145.019837</td>\n",
       "      <td>25.000000</td>\n",
       "      <td>5.688270e+06</td>\n",
       "      <td>94.973400</td>\n",
       "    </tr>\n",
       "  </tbody>\n",
       "</table>\n",
       "</div>"
      ],
      "text/plain": [
       "         order_price  delivery_charges  customer_lat  customer_long  \\\n",
       "count     500.000000        500.000000    500.000000     500.000000   \n",
       "mean    25522.216000         76.658200    -35.835234     144.969494   \n",
       "std     86333.729169         14.481465     12.045393       0.022720   \n",
       "min       585.000000         46.350000    -37.827123     144.924967   \n",
       "25%      7050.000000         65.982500    -37.818222     144.953488   \n",
       "50%     12807.500000         76.310000    -37.812165     144.965357   \n",
       "75%     20360.000000         82.555000    -37.805364     144.983985   \n",
       "max    947691.000000        114.040000     37.826339     145.019837   \n",
       "\n",
       "       coupon_discount   order_total  distance_to_nearest_warehouse  \n",
       "count       500.000000  5.000000e+02                     500.000000  \n",
       "mean         10.890000  3.920967e+04                       2.204224  \n",
       "std           8.649134  2.741940e+05                       8.812416  \n",
       "min           0.000000  6.392900e+02                       0.107800  \n",
       "25%           5.000000  6.454735e+03                       0.751425  \n",
       "50%          10.000000  1.129396e+04                       1.030100  \n",
       "75%          15.000000  1.811919e+04                       1.408625  \n",
       "max          25.000000  5.688270e+06                      94.973400  "
      ]
     },
     "execution_count": 161,
     "metadata": {},
     "output_type": "execute_result"
    }
   ],
   "source": [
    "#Displaying statistical info of eda data\n",
    "eda_data.describe() "
   ]
  },
  {
   "cell_type": "code",
   "execution_count": 162,
   "id": "a251e5ae",
   "metadata": {},
   "outputs": [
    {
     "name": "stdout",
     "output_type": "stream",
     "text": [
      "Shape of eda data is: (500, 16)\n"
     ]
    }
   ],
   "source": [
    "print(f'Shape of eda data is: {eda_data.shape}')"
   ]
  },
  {
   "cell_type": "code",
   "execution_count": 163,
   "id": "5030cd90",
   "metadata": {},
   "outputs": [
    {
     "name": "stdout",
     "output_type": "stream",
     "text": [
      "order_id                         0\n",
      "customer_id                      0\n",
      "date                             0\n",
      "nearest_warehouse                0\n",
      "shopping_cart                    0\n",
      "order_price                      0\n",
      "delivery_charges                 0\n",
      "customer_lat                     0\n",
      "customer_long                    0\n",
      "coupon_discount                  0\n",
      "order_total                      0\n",
      "season                           0\n",
      "is_expedited_delivery            0\n",
      "distance_to_nearest_warehouse    0\n",
      "latest_customer_review           0\n",
      "is_happy_customer                0\n",
      "dtype: int64\n"
     ]
    }
   ],
   "source": [
    "#Whether any columns contains null value or not\n",
    "print(eda_data.isnull().sum())"
   ]
  },
  {
   "cell_type": "code",
   "execution_count": 164,
   "id": "643a3697",
   "metadata": {},
   "outputs": [
    {
     "name": "stdout",
     "output_type": "stream",
     "text": [
      "order_id                          object\n",
      "customer_id                       object\n",
      "date                              object\n",
      "nearest_warehouse                 object\n",
      "shopping_cart                     object\n",
      "order_price                        int64\n",
      "delivery_charges                 float64\n",
      "customer_lat                     float64\n",
      "customer_long                    float64\n",
      "coupon_discount                    int64\n",
      "order_total                      float64\n",
      "season                            object\n",
      "is_expedited_delivery               bool\n",
      "distance_to_nearest_warehouse    float64\n",
      "latest_customer_review            object\n",
      "is_happy_customer                   bool\n",
      "dtype: object\n"
     ]
    }
   ],
   "source": [
    "#Analyzing datatype of each column\n",
    "print(eda_data.dtypes)"
   ]
  },
  {
   "cell_type": "code",
   "execution_count": 165,
   "id": "67bff822",
   "metadata": {},
   "outputs": [],
   "source": [
    "#Data type of date column is object instead of datetime, So fixing this problem\n",
    "eda_data.date = pd.to_datetime(eda_data['date'])"
   ]
  },
  {
   "cell_type": "code",
   "execution_count": 166,
   "id": "466dafbf",
   "metadata": {},
   "outputs": [
    {
     "name": "stdout",
     "output_type": "stream",
     "text": [
      "datetime64[ns]\n"
     ]
    }
   ],
   "source": [
    "print(eda_data.date.dtypes)      "
   ]
  },
  {
   "cell_type": "code",
   "execution_count": 167,
   "id": "e8329380",
   "metadata": {},
   "outputs": [
    {
     "name": "stdout",
     "output_type": "stream",
     "text": [
      "order_id                                 object\n",
      "customer_id                              object\n",
      "date                             datetime64[ns]\n",
      "nearest_warehouse                        object\n",
      "shopping_cart                            object\n",
      "order_price                               int64\n",
      "delivery_charges                        float64\n",
      "customer_lat                            float64\n",
      "customer_long                           float64\n",
      "coupon_discount                           int64\n",
      "order_total                             float64\n",
      "season                                   object\n",
      "is_expedited_delivery                      bool\n",
      "distance_to_nearest_warehouse           float64\n",
      "latest_customer_review                   object\n",
      "is_happy_customer                          bool\n",
      "dtype: object\n"
     ]
    }
   ],
   "source": [
    "print(eda_data.dtypes)  # Now data in date column is in datetime64 form"
   ]
  },
  {
   "cell_type": "code",
   "execution_count": 168,
   "id": "33ee7c57",
   "metadata": {},
   "outputs": [
    {
     "name": "stdout",
     "output_type": "stream",
     "text": [
      "Data in order_id is unique\n"
     ]
    }
   ],
   "source": [
    "#Analyzing order_id\n",
    "#Checking whether order_id is unique or not\n",
    "if eda_data.order_id.is_unique:    \n",
    "    print(\"Data in order_id is unique\")      # execute when 'if' block will true\n",
    "else:\n",
    "    print(\"Data in order_id is not unique\")  # execute when 'else' block will true"
   ]
  },
  {
   "cell_type": "code",
   "execution_count": 169,
   "id": "3dcdc1a4",
   "metadata": {},
   "outputs": [
    {
     "data": {
      "text/plain": [
       "array(['Arizona', 'Arkansas', 'California'], dtype=object)"
      ]
     },
     "execution_count": 169,
     "metadata": {},
     "output_type": "execute_result"
    }
   ],
   "source": [
    "#Analyzing nearest_warehouse\n",
    "eda_data['nearest_warehouse'].unique()"
   ]
  },
  {
   "cell_type": "code",
   "execution_count": 170,
   "id": "e834a331",
   "metadata": {},
   "outputs": [],
   "source": [
    "#Arizona and arizona are same but here they both are different so make it same¶\n",
    "#Similarly California and california are same\n",
    "#To solve this problem, convert data in nearest_warehouse in title case\n",
    "eda_data.nearest_warehouse = eda_data.nearest_warehouse.str.title()"
   ]
  },
  {
   "cell_type": "code",
   "execution_count": 171,
   "id": "58ba0f46",
   "metadata": {},
   "outputs": [
    {
     "data": {
      "text/plain": [
       "array(['Arizona', 'Arkansas', 'California'], dtype=object)"
      ]
     },
     "execution_count": 171,
     "metadata": {},
     "output_type": "execute_result"
    }
   ],
   "source": [
    "eda_data['nearest_warehouse'].unique()"
   ]
  },
  {
   "cell_type": "code",
   "execution_count": 172,
   "id": "bd716da7",
   "metadata": {},
   "outputs": [
    {
     "name": "stdout",
     "output_type": "stream",
     "text": [
      "Arizona       197\n",
      "Arkansas      184\n",
      "California    119\n",
      "Name: nearest_warehouse, dtype: int64\n"
     ]
    }
   ],
   "source": [
    "#Checking quantities of near_warehouse\n",
    "warehouses = eda_data['nearest_warehouse'].value_counts()\n",
    "print(warehouses)"
   ]
  },
  {
   "cell_type": "code",
   "execution_count": 173,
   "id": "9dc6407a",
   "metadata": {},
   "outputs": [
    {
     "data": {
      "image/png": "[encoded data removed]",
      "text/plain": [
       "<Figure size 720x360 with 1 Axes>"
      ]
     },
     "metadata": {
      "needs_background": "light"
     },
     "output_type": "display_data"
    }
   ],
   "source": [
    "#Visualizing data using bar chart\n",
    "warehouses.plot(kind='bar', rot=1, color=['r','g','b'], figsize=(10,5))\n",
    "plt.title(\"Quantity of the warehouses\\n\", size=15)\n",
    "plt.ylabel(\"Counts\");"
   ]
  },
  {
   "cell_type": "code",
   "execution_count": 174,
   "id": "d9b0d33a",
   "metadata": {},
   "outputs": [
    {
     "data": {
      "image/png": "[encoded data removed]",
      "text/plain": [
       "<Figure size 432x288 with 1 Axes>"
      ]
     },
     "metadata": {},
     "output_type": "display_data"
    }
   ],
   "source": [
    "#Visualizing data using pie chart\n",
    "plt.pie(warehouses,\n",
    "        labels=['Arizona',\"Arkansas\",'California'],\n",
    "        autopct=\"%0.1f%%\",\n",
    "        explode=[0,.01,0.1],\n",
    "        startangle=60,radius=1)\n",
    "plt.title(\"Quantity of warehouses\", size=15)\n",
    "plt.show()"
   ]
  },
  {
   "cell_type": "code",
   "execution_count": 175,
   "id": "59ab6927",
   "metadata": {},
   "outputs": [],
   "source": [
    "#It seems that Arizona is nearest warehouse accessible to mostly customer"
   ]
  },
  {
   "cell_type": "code",
   "execution_count": 176,
   "id": "99b1ae9f",
   "metadata": {},
   "outputs": [],
   "source": [
    "#Analyzing order_price and order_total\n",
    "#order_price: Price before any discounts and delivery charges\n",
    "#order_total: Price after all discounts and/or delivery charges are applied"
   ]
  },
  {
   "cell_type": "code",
   "execution_count": 177,
   "id": "d91376eb",
   "metadata": {},
   "outputs": [
    {
     "data": {
      "text/html": [
       "<div>\n",
       "<style scoped>\n",
       "    .dataframe tbody tr th:only-of-type {\n",
       "        vertical-align: middle;\n",
       "    }\n",
       "\n",
       "    .dataframe tbody tr th {\n",
       "        vertical-align: top;\n",
       "    }\n",
       "\n",
       "    .dataframe thead th {\n",
       "        text-align: right;\n",
       "    }\n",
       "</style>\n",
       "<table border=\"1\" class=\"dataframe\">\n",
       "  <thead>\n",
       "    <tr style=\"text-align: right;\">\n",
       "      <th></th>\n",
       "      <th>order_id</th>\n",
       "      <th>customer_id</th>\n",
       "      <th>date</th>\n",
       "      <th>nearest_warehouse</th>\n",
       "      <th>shopping_cart</th>\n",
       "      <th>order_price</th>\n",
       "      <th>delivery_charges</th>\n",
       "      <th>customer_lat</th>\n",
       "      <th>customer_long</th>\n",
       "      <th>coupon_discount</th>\n",
       "      <th>order_total</th>\n",
       "      <th>season</th>\n",
       "      <th>is_expedited_delivery</th>\n",
       "      <th>distance_to_nearest_warehouse</th>\n",
       "      <th>latest_customer_review</th>\n",
       "      <th>is_happy_customer</th>\n",
       "    </tr>\n",
       "  </thead>\n",
       "  <tbody>\n",
       "    <tr>\n",
       "      <th>335</th>\n",
       "      <td>ORD116440</td>\n",
       "      <td>ID0332546017</td>\n",
       "      <td>2019-12-31</td>\n",
       "      <td>Arizona</td>\n",
       "      <td>[('Lucent 330S', 1), ('iAssist Line', 1), ('Ca...</td>\n",
       "      <td>947691</td>\n",
       "      <td>90.82</td>\n",
       "      <td>-37.809368</td>\n",
       "      <td>144.949342</td>\n",
       "      <td>10</td>\n",
       "      <td>9266.32</td>\n",
       "      <td>Summer</td>\n",
       "      <td>True</td>\n",
       "      <td>0.4187</td>\n",
       "      <td>work fine great product and no issues.</td>\n",
       "      <td>True</td>\n",
       "    </tr>\n",
       "  </tbody>\n",
       "</table>\n",
       "</div>"
      ],
      "text/plain": [
       "      order_id   customer_id       date nearest_warehouse  \\\n",
       "335  ORD116440  ID0332546017 2019-12-31           Arizona   \n",
       "\n",
       "                                         shopping_cart  order_price  \\\n",
       "335  [('Lucent 330S', 1), ('iAssist Line', 1), ('Ca...       947691   \n",
       "\n",
       "     delivery_charges  customer_lat  customer_long  coupon_discount  \\\n",
       "335             90.82    -37.809368     144.949342               10   \n",
       "\n",
       "     order_total  season  is_expedited_delivery  \\\n",
       "335      9266.32  Summer                   True   \n",
       "\n",
       "     distance_to_nearest_warehouse                  latest_customer_review  \\\n",
       "335                         0.4187  work fine great product and no issues.   \n",
       "\n",
       "     is_happy_customer  \n",
       "335               True  "
      ]
     },
     "execution_count": 177,
     "metadata": {},
     "output_type": "execute_result"
    }
   ],
   "source": [
    "#Displaying Record whose order price is maximum\n",
    "eda_data[eda_data.order_price == eda_data.order_price.max()]"
   ]
  },
  {
   "cell_type": "code",
   "execution_count": 178,
   "id": "ca6c541e",
   "metadata": {},
   "outputs": [],
   "source": [
    "#Displaying Record whose order price is minimum"
   ]
  },
  {
   "cell_type": "code",
   "execution_count": 179,
   "id": "e1c14e02",
   "metadata": {},
   "outputs": [
    {
     "data": {
      "text/html": [
       "<div>\n",
       "<style scoped>\n",
       "    .dataframe tbody tr th:only-of-type {\n",
       "        vertical-align: middle;\n",
       "    }\n",
       "\n",
       "    .dataframe tbody tr th {\n",
       "        vertical-align: top;\n",
       "    }\n",
       "\n",
       "    .dataframe thead th {\n",
       "        text-align: right;\n",
       "    }\n",
       "</style>\n",
       "<table border=\"1\" class=\"dataframe\">\n",
       "  <thead>\n",
       "    <tr style=\"text-align: right;\">\n",
       "      <th></th>\n",
       "      <th>order_price</th>\n",
       "      <th>delivery_charges</th>\n",
       "      <th>coupon_discount</th>\n",
       "      <th>order_total</th>\n",
       "    </tr>\n",
       "  </thead>\n",
       "  <tbody>\n",
       "    <tr>\n",
       "      <th>0</th>\n",
       "      <td>12200</td>\n",
       "      <td>79.89</td>\n",
       "      <td>10</td>\n",
       "      <td>11059.89</td>\n",
       "    </tr>\n",
       "    <tr>\n",
       "      <th>1</th>\n",
       "      <td>9080</td>\n",
       "      <td>62.71</td>\n",
       "      <td>0</td>\n",
       "      <td>9142.71</td>\n",
       "    </tr>\n",
       "    <tr>\n",
       "      <th>2</th>\n",
       "      <td>10670</td>\n",
       "      <td>65.87</td>\n",
       "      <td>10</td>\n",
       "      <td>9668.87</td>\n",
       "    </tr>\n",
       "    <tr>\n",
       "      <th>3</th>\n",
       "      <td>24800</td>\n",
       "      <td>57.61</td>\n",
       "      <td>15</td>\n",
       "      <td>21137.61</td>\n",
       "    </tr>\n",
       "    <tr>\n",
       "      <th>4</th>\n",
       "      <td>9145</td>\n",
       "      <td>75.54</td>\n",
       "      <td>25</td>\n",
       "      <td>6934.29</td>\n",
       "    </tr>\n",
       "    <tr>\n",
       "      <th>5</th>\n",
       "      <td>7810</td>\n",
       "      <td>71.22</td>\n",
       "      <td>10</td>\n",
       "      <td>7100.22</td>\n",
       "    </tr>\n",
       "    <tr>\n",
       "      <th>6</th>\n",
       "      <td>13700</td>\n",
       "      <td>74.84</td>\n",
       "      <td>5</td>\n",
       "      <td>13089.84</td>\n",
       "    </tr>\n",
       "    <tr>\n",
       "      <th>7</th>\n",
       "      <td>7960</td>\n",
       "      <td>52.28</td>\n",
       "      <td>5</td>\n",
       "      <td>10789.79</td>\n",
       "    </tr>\n",
       "    <tr>\n",
       "      <th>8</th>\n",
       "      <td>25390</td>\n",
       "      <td>107.58</td>\n",
       "      <td>10</td>\n",
       "      <td>22958.58</td>\n",
       "    </tr>\n",
       "    <tr>\n",
       "      <th>9</th>\n",
       "      <td>13320</td>\n",
       "      <td>62.26</td>\n",
       "      <td>15</td>\n",
       "      <td>11384.26</td>\n",
       "    </tr>\n",
       "  </tbody>\n",
       "</table>\n",
       "</div>"
      ],
      "text/plain": [
       "   order_price  delivery_charges  coupon_discount  order_total\n",
       "0        12200             79.89               10     11059.89\n",
       "1         9080             62.71                0      9142.71\n",
       "2        10670             65.87               10      9668.87\n",
       "3        24800             57.61               15     21137.61\n",
       "4         9145             75.54               25      6934.29\n",
       "5         7810             71.22               10      7100.22\n",
       "6        13700             74.84                5     13089.84\n",
       "7         7960             52.28                5     10789.79\n",
       "8        25390            107.58               10     22958.58\n",
       "9        13320             62.26               15     11384.26"
      ]
     },
     "execution_count": 179,
     "metadata": {},
     "output_type": "execute_result"
    }
   ],
   "source": [
    "#Now checking whether the order_total(after all discount and delivery charges are applied) is correct or there is some problem in it\n",
    "eda_data.loc[:,['order_price','delivery_charges','coupon_discount','order_total']].head(10)"
   ]
  },
  {
   "cell_type": "code",
   "execution_count": null,
   "id": "f6243e8a",
   "metadata": {},
   "outputs": [],
   "source": []
  },
  {
   "cell_type": "code",
   "execution_count": 180,
   "id": "05b97960",
   "metadata": {},
   "outputs": [],
   "source": [
    "#It looks like that there is an error in order_total feature of eda data, So fixing this¶\n",
    "order_final_list = list()   "
   ]
  },
  {
   "cell_type": "code",
   "execution_count": 181,
   "id": "cfc5e5da",
   "metadata": {},
   "outputs": [],
   "source": [
    "#Computing and appending order_final in 'order_final_list'\n",
    "for i in range(0,len(eda_data['order_price'])):\n",
    "    if (eda_data['coupon_discount'][i] != 0):\n",
    "        dis_price = (eda_data['order_price'][i]) * (eda_data['coupon_discount'][i] / 100)   # apply coupon to original price\n",
    "        price = dis_price + eda_data['delivery_charges'][i]         # adding delivery charges\n",
    "        final_price = np.round(dis_price,2)\n",
    "        order_final_list.append(final_price)               # appending final_price to order_final_list\n",
    "    \n",
    "    else:\n",
    "        final_price = eda_data['order_price'][i] + eda_data['delivery_charges'][i]   # adding order_price and delivery_charges\n",
    "        final_price = np.round(final_price,2)    # round off upto 2nd decimal place\n",
    "        order_final_list.append(final_price)                  # appending final_price to order_final_list\n"
   ]
  },
  {
   "cell_type": "code",
   "execution_count": 182,
   "id": "597a5989",
   "metadata": {},
   "outputs": [
    {
     "name": "stdout",
     "output_type": "stream",
     "text": [
      "Items (Price) in list is: 500\n"
     ]
    }
   ],
   "source": [
    "print(f'Items (Price) in list is: {len(order_final_list)}')"
   ]
  },
  {
   "cell_type": "code",
   "execution_count": 183,
   "id": "fa4affea",
   "metadata": {},
   "outputs": [],
   "source": [
    "#Converting list to Series and set it in order_total\n",
    "eda_data['order_total'] = pd.Series(order_final_list)"
   ]
  },
  {
   "cell_type": "code",
   "execution_count": 184,
   "id": "901b701d",
   "metadata": {},
   "outputs": [],
   "source": [
    "#Removing outlier\n",
    "#Using IQR\n",
    "#Checking for Outlier in order_total\n",
    "Q1_order_total = eda_data['order_total'].quantile(0.25)     # Lower Quartile\n",
    "Q3_order_total = eda_data['order_total'].quantile(0.75)     # Upper Quartile"
   ]
  },
  {
   "cell_type": "code",
   "execution_count": 185,
   "id": "a3d78d75",
   "metadata": {},
   "outputs": [
    {
     "name": "stdout",
     "output_type": "stream",
     "text": [
      "Lower Quartile is: 860.375\n",
      "Upper Quartile is: 5020.0\n"
     ]
    }
   ],
   "source": [
    "print(f'Lower Quartile is: {Q1_order_total}') \n",
    "print(f'Upper Quartile is: {Q3_order_total}')"
   ]
  },
  {
   "cell_type": "code",
   "execution_count": 186,
   "id": "074c7265",
   "metadata": {},
   "outputs": [],
   "source": [
    "#Finding IQR\n",
    "# upper quartile - lower quartile\n",
    "\n",
    "IQR_order_total = Q3_order_total - Q1_order_total    "
   ]
  },
  {
   "cell_type": "code",
   "execution_count": 187,
   "id": "b34761a6",
   "metadata": {},
   "outputs": [
    {
     "name": "stdout",
     "output_type": "stream",
     "text": [
      "Value of IQR_order_total is: 4159.625\n"
     ]
    }
   ],
   "source": [
    "print(f'Value of IQR_order_total is: {IQR_order_total}')"
   ]
  },
  {
   "cell_type": "code",
   "execution_count": 188,
   "id": "94afc887",
   "metadata": {},
   "outputs": [],
   "source": [
    "#Finding lower and upper limit\n",
    "lower_limit_order_total = Q1_order_total - 1.5 * IQR_order_total\n",
    "upper_limit_order_total = Q3_order_total + 1.5 * IQR_order_total"
   ]
  },
  {
   "cell_type": "code",
   "execution_count": 189,
   "id": "7dd3a740",
   "metadata": {},
   "outputs": [
    {
     "name": "stdout",
     "output_type": "stream",
     "text": [
      "Lower limit of order_total is: -5379.0625\n",
      "Upper limit of order_total is: 11259.4375\n"
     ]
    }
   ],
   "source": [
    "print(f'Lower limit of order_total is: {lower_limit_order_total}')\n",
    "print(f'Upper limit of order_total is: {upper_limit_order_total}')"
   ]
  },
  {
   "cell_type": "code",
   "execution_count": 190,
   "id": "2ce543d7",
   "metadata": {},
   "outputs": [],
   "source": [
    "#Any value less then lower limit and greater then upper limit is outlier\n",
    "#Displaying all outlier values\n",
    "outlier_in_eda_data = eda_data[(eda_data['order_total'] < lower_limit_order_total) | (eda_data['order_total'] > upper_limit_order_total)]"
   ]
  },
  {
   "cell_type": "code",
   "execution_count": 191,
   "id": "f5f4dd35",
   "metadata": {},
   "outputs": [
    {
     "data": {
      "text/html": [
       "<div>\n",
       "<style scoped>\n",
       "    .dataframe tbody tr th:only-of-type {\n",
       "        vertical-align: middle;\n",
       "    }\n",
       "\n",
       "    .dataframe tbody tr th {\n",
       "        vertical-align: top;\n",
       "    }\n",
       "\n",
       "    .dataframe thead th {\n",
       "        text-align: right;\n",
       "    }\n",
       "</style>\n",
       "<table border=\"1\" class=\"dataframe\">\n",
       "  <thead>\n",
       "    <tr style=\"text-align: right;\">\n",
       "      <th></th>\n",
       "      <th>order_id</th>\n",
       "      <th>customer_id</th>\n",
       "      <th>date</th>\n",
       "      <th>nearest_warehouse</th>\n",
       "      <th>shopping_cart</th>\n",
       "      <th>order_price</th>\n",
       "      <th>delivery_charges</th>\n",
       "      <th>customer_lat</th>\n",
       "      <th>customer_long</th>\n",
       "      <th>coupon_discount</th>\n",
       "      <th>order_total</th>\n",
       "      <th>season</th>\n",
       "      <th>is_expedited_delivery</th>\n",
       "      <th>distance_to_nearest_warehouse</th>\n",
       "      <th>latest_customer_review</th>\n",
       "      <th>is_happy_customer</th>\n",
       "    </tr>\n",
       "  </thead>\n",
       "  <tbody>\n",
       "    <tr>\n",
       "      <th>10</th>\n",
       "      <td>ORD034800</td>\n",
       "      <td>ID4283908179</td>\n",
       "      <td>2019-03-08</td>\n",
       "      <td>California</td>\n",
       "      <td>[('Alcon 10', 2), ('pearTV', 2), ('iStream', 1...</td>\n",
       "      <td>31895</td>\n",
       "      <td>78.25</td>\n",
       "      <td>-37.811334</td>\n",
       "      <td>145.008678</td>\n",
       "      <td>0</td>\n",
       "      <td>31973.25</td>\n",
       "      <td>Winter</td>\n",
       "      <td>True</td>\n",
       "      <td>1.1919</td>\n",
       "      <td>i love this phone it is so user friendly and t...</td>\n",
       "      <td>True</td>\n",
       "    </tr>\n",
       "    <tr>\n",
       "      <th>12</th>\n",
       "      <td>ORD124395</td>\n",
       "      <td>ID0702352304</td>\n",
       "      <td>2019-11-02</td>\n",
       "      <td>Arizona</td>\n",
       "      <td>[('Alcon 10', 1), ('Universe Note', 1), ('pear...</td>\n",
       "      <td>19010</td>\n",
       "      <td>94.75</td>\n",
       "      <td>-37.805433</td>\n",
       "      <td>144.941333</td>\n",
       "      <td>0</td>\n",
       "      <td>19104.75</td>\n",
       "      <td>Summer</td>\n",
       "      <td>True</td>\n",
       "      <td>0.9509</td>\n",
       "      <td>the cult's alive i love this little dummy-phon...</td>\n",
       "      <td>True</td>\n",
       "    </tr>\n",
       "    <tr>\n",
       "      <th>13</th>\n",
       "      <td>ORD255642</td>\n",
       "      <td>ID3085953531</td>\n",
       "      <td>2019-12-24</td>\n",
       "      <td>Arkansas</td>\n",
       "      <td>[('iAssist Line', 2), ('Alcon 10', 1), ('pearT...</td>\n",
       "      <td>19710</td>\n",
       "      <td>75.64</td>\n",
       "      <td>-37.816166</td>\n",
       "      <td>144.975278</td>\n",
       "      <td>0</td>\n",
       "      <td>19785.64</td>\n",
       "      <td>Summer</td>\n",
       "      <td>True</td>\n",
       "      <td>0.5716</td>\n",
       "      <td>phone had a problem phone seemed great but con...</td>\n",
       "      <td>False</td>\n",
       "    </tr>\n",
       "    <tr>\n",
       "      <th>14</th>\n",
       "      <td>ORD496722</td>\n",
       "      <td>ID0589449820</td>\n",
       "      <td>2019-09-04</td>\n",
       "      <td>Arkansas</td>\n",
       "      <td>[('pearTV', 2), ('iStream', 1), ('Lucent 330S'...</td>\n",
       "      <td>31900</td>\n",
       "      <td>79.78</td>\n",
       "      <td>-37.809463</td>\n",
       "      <td>144.972367</td>\n",
       "      <td>0</td>\n",
       "      <td>31979.78</td>\n",
       "      <td>Autumn</td>\n",
       "      <td>True</td>\n",
       "      <td>66.6483</td>\n",
       "      <td>five stars good speed, like stanley</td>\n",
       "      <td>True</td>\n",
       "    </tr>\n",
       "    <tr>\n",
       "      <th>20</th>\n",
       "      <td>ORD178590</td>\n",
       "      <td>ID6167441029</td>\n",
       "      <td>2019-11-20</td>\n",
       "      <td>Arizona</td>\n",
       "      <td>[('Candle Inferno', 1), ('Toshika 750', 2), ('...</td>\n",
       "      <td>13710</td>\n",
       "      <td>77.61</td>\n",
       "      <td>-37.809311</td>\n",
       "      <td>145.018595</td>\n",
       "      <td>0</td>\n",
       "      <td>13787.61</td>\n",
       "      <td>Spring</td>\n",
       "      <td>False</td>\n",
       "      <td>1.2791</td>\n",
       "      <td>love it. perfect. the battery life is at 94% w...</td>\n",
       "      <td>True</td>\n",
       "    </tr>\n",
       "    <tr>\n",
       "      <th>...</th>\n",
       "      <td>...</td>\n",
       "      <td>...</td>\n",
       "      <td>...</td>\n",
       "      <td>...</td>\n",
       "      <td>...</td>\n",
       "      <td>...</td>\n",
       "      <td>...</td>\n",
       "      <td>...</td>\n",
       "      <td>...</td>\n",
       "      <td>...</td>\n",
       "      <td>...</td>\n",
       "      <td>...</td>\n",
       "      <td>...</td>\n",
       "      <td>...</td>\n",
       "      <td>...</td>\n",
       "      <td>...</td>\n",
       "    </tr>\n",
       "    <tr>\n",
       "      <th>483</th>\n",
       "      <td>ORD033121</td>\n",
       "      <td>ID0777768981</td>\n",
       "      <td>2019-05-17</td>\n",
       "      <td>Arizona</td>\n",
       "      <td>[('Olivia x460', 1), ('pearTV', 2), ('Universe...</td>\n",
       "      <td>20745</td>\n",
       "      <td>67.67</td>\n",
       "      <td>-37.806155</td>\n",
       "      <td>144.958304</td>\n",
       "      <td>0</td>\n",
       "      <td>20812.67</td>\n",
       "      <td>Autumn</td>\n",
       "      <td>False</td>\n",
       "      <td>1.2259</td>\n",
       "      <td>worth it fantastic worth every penny</td>\n",
       "      <td>True</td>\n",
       "    </tr>\n",
       "    <tr>\n",
       "      <th>487</th>\n",
       "      <td>ORD234473</td>\n",
       "      <td>ID0127674021</td>\n",
       "      <td>2019-04-07</td>\n",
       "      <td>Arizona</td>\n",
       "      <td>[('Candle Inferno', 1), ('Toshika 750', 2), ('...</td>\n",
       "      <td>33870</td>\n",
       "      <td>77.06</td>\n",
       "      <td>-37.802392</td>\n",
       "      <td>144.998158</td>\n",
       "      <td>0</td>\n",
       "      <td>33947.06</td>\n",
       "      <td>Winter</td>\n",
       "      <td>True</td>\n",
       "      <td>0.8848</td>\n",
       "      <td>misses phone calls i love the features. you ge...</td>\n",
       "      <td>True</td>\n",
       "    </tr>\n",
       "    <tr>\n",
       "      <th>495</th>\n",
       "      <td>ORD475510</td>\n",
       "      <td>ID0247417082</td>\n",
       "      <td>2019-07-08</td>\n",
       "      <td>Arkansas</td>\n",
       "      <td>[('Alcon 10', 2), ('iAssist Line', 2)]</td>\n",
       "      <td>386776</td>\n",
       "      <td>59.70</td>\n",
       "      <td>-37.817662</td>\n",
       "      <td>144.970405</td>\n",
       "      <td>10</td>\n",
       "      <td>38677.60</td>\n",
       "      <td>Winter</td>\n",
       "      <td>True</td>\n",
       "      <td>0.1282</td>\n",
       "      <td>i bought this phone to send to my sister in .....</td>\n",
       "      <td>False</td>\n",
       "    </tr>\n",
       "    <tr>\n",
       "      <th>496</th>\n",
       "      <td>ORD086060</td>\n",
       "      <td>ID0130015098</td>\n",
       "      <td>2019-03-28</td>\n",
       "      <td>Arkansas</td>\n",
       "      <td>[('pearTV', 2), ('Candle Inferno', 2), ('Toshi...</td>\n",
       "      <td>22120</td>\n",
       "      <td>62.29</td>\n",
       "      <td>-37.815469</td>\n",
       "      <td>144.968083</td>\n",
       "      <td>0</td>\n",
       "      <td>22182.29</td>\n",
       "      <td>Autumn</td>\n",
       "      <td>True</td>\n",
       "      <td>0.3711</td>\n",
       "      <td>one star it was the wrong phone</td>\n",
       "      <td>False</td>\n",
       "    </tr>\n",
       "    <tr>\n",
       "      <th>497</th>\n",
       "      <td>ORD079320</td>\n",
       "      <td>ID2707985442</td>\n",
       "      <td>2019-10-16</td>\n",
       "      <td>Arkansas</td>\n",
       "      <td>[('pearTV', 1), ('Alcon 10', 1), ('Lucent 330S...</td>\n",
       "      <td>16490</td>\n",
       "      <td>106.98</td>\n",
       "      <td>-37.805979</td>\n",
       "      <td>144.966101</td>\n",
       "      <td>0</td>\n",
       "      <td>16596.98</td>\n",
       "      <td>Spring</td>\n",
       "      <td>True</td>\n",
       "      <td>1.4368</td>\n",
       "      <td>love this phone! has many great features!</td>\n",
       "      <td>True</td>\n",
       "    </tr>\n",
       "  </tbody>\n",
       "</table>\n",
       "<p>72 rows × 16 columns</p>\n",
       "</div>"
      ],
      "text/plain": [
       "      order_id   customer_id       date nearest_warehouse  \\\n",
       "10   ORD034800  ID4283908179 2019-03-08        California   \n",
       "12   ORD124395  ID0702352304 2019-11-02           Arizona   \n",
       "13   ORD255642  ID3085953531 2019-12-24          Arkansas   \n",
       "14   ORD496722  ID0589449820 2019-09-04          Arkansas   \n",
       "20   ORD178590  ID6167441029 2019-11-20           Arizona   \n",
       "..         ...           ...        ...               ...   \n",
       "483  ORD033121  ID0777768981 2019-05-17           Arizona   \n",
       "487  ORD234473  ID0127674021 2019-04-07           Arizona   \n",
       "495  ORD475510  ID0247417082 2019-07-08          Arkansas   \n",
       "496  ORD086060  ID0130015098 2019-03-28          Arkansas   \n",
       "497  ORD079320  ID2707985442 2019-10-16          Arkansas   \n",
       "\n",
       "                                         shopping_cart  order_price  \\\n",
       "10   [('Alcon 10', 2), ('pearTV', 2), ('iStream', 1...        31895   \n",
       "12   [('Alcon 10', 1), ('Universe Note', 1), ('pear...        19010   \n",
       "13   [('iAssist Line', 2), ('Alcon 10', 1), ('pearT...        19710   \n",
       "14   [('pearTV', 2), ('iStream', 1), ('Lucent 330S'...        31900   \n",
       "20   [('Candle Inferno', 1), ('Toshika 750', 2), ('...        13710   \n",
       "..                                                 ...          ...   \n",
       "483  [('Olivia x460', 1), ('pearTV', 2), ('Universe...        20745   \n",
       "487  [('Candle Inferno', 1), ('Toshika 750', 2), ('...        33870   \n",
       "495             [('Alcon 10', 2), ('iAssist Line', 2)]       386776   \n",
       "496  [('pearTV', 2), ('Candle Inferno', 2), ('Toshi...        22120   \n",
       "497  [('pearTV', 1), ('Alcon 10', 1), ('Lucent 330S...        16490   \n",
       "\n",
       "     delivery_charges  customer_lat  customer_long  coupon_discount  \\\n",
       "10              78.25    -37.811334     145.008678                0   \n",
       "12              94.75    -37.805433     144.941333                0   \n",
       "13              75.64    -37.816166     144.975278                0   \n",
       "14              79.78    -37.809463     144.972367                0   \n",
       "20              77.61    -37.809311     145.018595                0   \n",
       "..                ...           ...            ...              ...   \n",
       "483             67.67    -37.806155     144.958304                0   \n",
       "487             77.06    -37.802392     144.998158                0   \n",
       "495             59.70    -37.817662     144.970405               10   \n",
       "496             62.29    -37.815469     144.968083                0   \n",
       "497            106.98    -37.805979     144.966101                0   \n",
       "\n",
       "     order_total  season  is_expedited_delivery  \\\n",
       "10      31973.25  Winter                   True   \n",
       "12      19104.75  Summer                   True   \n",
       "13      19785.64  Summer                   True   \n",
       "14      31979.78  Autumn                   True   \n",
       "20      13787.61  Spring                  False   \n",
       "..           ...     ...                    ...   \n",
       "483     20812.67  Autumn                  False   \n",
       "487     33947.06  Winter                   True   \n",
       "495     38677.60  Winter                   True   \n",
       "496     22182.29  Autumn                   True   \n",
       "497     16596.98  Spring                   True   \n",
       "\n",
       "     distance_to_nearest_warehouse  \\\n",
       "10                          1.1919   \n",
       "12                          0.9509   \n",
       "13                          0.5716   \n",
       "14                         66.6483   \n",
       "20                          1.2791   \n",
       "..                             ...   \n",
       "483                         1.2259   \n",
       "487                         0.8848   \n",
       "495                         0.1282   \n",
       "496                         0.3711   \n",
       "497                         1.4368   \n",
       "\n",
       "                                latest_customer_review  is_happy_customer  \n",
       "10   i love this phone it is so user friendly and t...               True  \n",
       "12   the cult's alive i love this little dummy-phon...               True  \n",
       "13   phone had a problem phone seemed great but con...              False  \n",
       "14                 five stars good speed, like stanley               True  \n",
       "20   love it. perfect. the battery life is at 94% w...               True  \n",
       "..                                                 ...                ...  \n",
       "483               worth it fantastic worth every penny               True  \n",
       "487  misses phone calls i love the features. you ge...               True  \n",
       "495  i bought this phone to send to my sister in .....              False  \n",
       "496                    one star it was the wrong phone              False  \n",
       "497          love this phone! has many great features!               True  \n",
       "\n",
       "[72 rows x 16 columns]"
      ]
     },
     "execution_count": 191,
     "metadata": {},
     "output_type": "execute_result"
    }
   ],
   "source": [
    "outlier_in_eda_data"
   ]
  },
  {
   "cell_type": "code",
   "execution_count": 192,
   "id": "36f4a60f",
   "metadata": {},
   "outputs": [
    {
     "name": "stdout",
     "output_type": "stream",
     "text": [
      "Total outlier records in eda data is: 72\n"
     ]
    }
   ],
   "source": [
    "#Above records is outlier, So removing it from original data\n",
    "print(f'Total outlier records in eda data is: {outlier_in_eda_data.shape[0]}')"
   ]
  },
  {
   "cell_type": "code",
   "execution_count": 193,
   "id": "fd9bbea0",
   "metadata": {},
   "outputs": [],
   "source": [
    "#Any data which is greater than lower limit and less than upper limit is Not an Outlier\n",
    "data_without_outlier = eda_data[(eda_data['order_total'] > lower_limit_order_total) & (eda_data['order_total'] < upper_limit_order_total)]"
   ]
  },
  {
   "cell_type": "code",
   "execution_count": 194,
   "id": "c205bb93",
   "metadata": {},
   "outputs": [
    {
     "name": "stdout",
     "output_type": "stream",
     "text": [
      "Total numbers of records without outliers is: 428\n"
     ]
    }
   ],
   "source": [
    "print(f'Total numbers of records without outliers is: {data_without_outlier.shape[0]}')"
   ]
  },
  {
   "cell_type": "code",
   "execution_count": 195,
   "id": "76037a66",
   "metadata": {},
   "outputs": [
    {
     "data": {
      "text/html": [
       "<div>\n",
       "<style scoped>\n",
       "    .dataframe tbody tr th:only-of-type {\n",
       "        vertical-align: middle;\n",
       "    }\n",
       "\n",
       "    .dataframe tbody tr th {\n",
       "        vertical-align: top;\n",
       "    }\n",
       "\n",
       "    .dataframe thead th {\n",
       "        text-align: right;\n",
       "    }\n",
       "</style>\n",
       "<table border=\"1\" class=\"dataframe\">\n",
       "  <thead>\n",
       "    <tr style=\"text-align: right;\">\n",
       "      <th></th>\n",
       "      <th>order_id</th>\n",
       "      <th>customer_id</th>\n",
       "      <th>date</th>\n",
       "      <th>nearest_warehouse</th>\n",
       "      <th>shopping_cart</th>\n",
       "      <th>order_price</th>\n",
       "      <th>delivery_charges</th>\n",
       "      <th>customer_lat</th>\n",
       "      <th>customer_long</th>\n",
       "      <th>coupon_discount</th>\n",
       "      <th>order_total</th>\n",
       "      <th>season</th>\n",
       "      <th>is_expedited_delivery</th>\n",
       "      <th>distance_to_nearest_warehouse</th>\n",
       "      <th>latest_customer_review</th>\n",
       "      <th>is_happy_customer</th>\n",
       "    </tr>\n",
       "  </thead>\n",
       "  <tbody>\n",
       "    <tr>\n",
       "      <th>0</th>\n",
       "      <td>ORD182494</td>\n",
       "      <td>ID6197211592</td>\n",
       "      <td>2019-06-22</td>\n",
       "      <td>Arizona</td>\n",
       "      <td>[('Lucent 330S', 1), ('Thunder line', 2), ('iS...</td>\n",
       "      <td>12200</td>\n",
       "      <td>79.89</td>\n",
       "      <td>-37.815105</td>\n",
       "      <td>144.932843</td>\n",
       "      <td>10</td>\n",
       "      <td>1220.00</td>\n",
       "      <td>Winter</td>\n",
       "      <td>True</td>\n",
       "      <td>1.2800</td>\n",
       "      <td>perfect phone and trusted seller. phone itself...</td>\n",
       "      <td>True</td>\n",
       "    </tr>\n",
       "    <tr>\n",
       "      <th>1</th>\n",
       "      <td>ORD395518</td>\n",
       "      <td>ID0282825849</td>\n",
       "      <td>2019-12-29</td>\n",
       "      <td>Arizona</td>\n",
       "      <td>[('Thunder line', 1), ('Universe Note', 2)]</td>\n",
       "      <td>9080</td>\n",
       "      <td>62.71</td>\n",
       "      <td>-37.802736</td>\n",
       "      <td>144.951118</td>\n",
       "      <td>0</td>\n",
       "      <td>9142.71</td>\n",
       "      <td>Summer</td>\n",
       "      <td>False</td>\n",
       "      <td>1.1621</td>\n",
       "      <td>it keeps dropping calls the wifi don't work th...</td>\n",
       "      <td>False</td>\n",
       "    </tr>\n",
       "    <tr>\n",
       "      <th>2</th>\n",
       "      <td>ORD494479</td>\n",
       "      <td>ID0579391891</td>\n",
       "      <td>2019-02-03</td>\n",
       "      <td>Arkansas</td>\n",
       "      <td>[('Thunder line', 1), ('pearTV', 2)]</td>\n",
       "      <td>10670</td>\n",
       "      <td>65.87</td>\n",
       "      <td>-37.821302</td>\n",
       "      <td>144.957581</td>\n",
       "      <td>10</td>\n",
       "      <td>1067.00</td>\n",
       "      <td>Autumn</td>\n",
       "      <td>False</td>\n",
       "      <td>1.0949</td>\n",
       "      <td>five stars this is a great cheap phone.</td>\n",
       "      <td>True</td>\n",
       "    </tr>\n",
       "    <tr>\n",
       "      <th>3</th>\n",
       "      <td>ORD019224</td>\n",
       "      <td>ID4544561904</td>\n",
       "      <td>2019-12-01</td>\n",
       "      <td>Arkansas</td>\n",
       "      <td>[('Universe Note', 1), ('Alcon 10', 2), ('Oliv...</td>\n",
       "      <td>24800</td>\n",
       "      <td>57.61</td>\n",
       "      <td>-37.811416</td>\n",
       "      <td>144.973073</td>\n",
       "      <td>15</td>\n",
       "      <td>3720.00</td>\n",
       "      <td>Summer</td>\n",
       "      <td>False</td>\n",
       "      <td>0.8571</td>\n",
       "      <td>charger did not fit the charger didn't fit.</td>\n",
       "      <td>False</td>\n",
       "    </tr>\n",
       "    <tr>\n",
       "      <th>4</th>\n",
       "      <td>ORD104032</td>\n",
       "      <td>ID6231506320</td>\n",
       "      <td>2019-11-28</td>\n",
       "      <td>Arkansas</td>\n",
       "      <td>[('Universe Note', 1), ('Olivia x460', 1), ('i...</td>\n",
       "      <td>9145</td>\n",
       "      <td>75.54</td>\n",
       "      <td>37.823859</td>\n",
       "      <td>144.969892</td>\n",
       "      <td>25</td>\n",
       "      <td>2286.25</td>\n",
       "      <td>Spring</td>\n",
       "      <td>False</td>\n",
       "      <td>0.5867</td>\n",
       "      <td>four stars good</td>\n",
       "      <td>True</td>\n",
       "    </tr>\n",
       "  </tbody>\n",
       "</table>\n",
       "</div>"
      ],
      "text/plain": [
       "    order_id   customer_id       date nearest_warehouse  \\\n",
       "0  ORD182494  ID6197211592 2019-06-22           Arizona   \n",
       "1  ORD395518  ID0282825849 2019-12-29           Arizona   \n",
       "2  ORD494479  ID0579391891 2019-02-03          Arkansas   \n",
       "3  ORD019224  ID4544561904 2019-12-01          Arkansas   \n",
       "4  ORD104032  ID6231506320 2019-11-28          Arkansas   \n",
       "\n",
       "                                       shopping_cart  order_price  \\\n",
       "0  [('Lucent 330S', 1), ('Thunder line', 2), ('iS...        12200   \n",
       "1        [('Thunder line', 1), ('Universe Note', 2)]         9080   \n",
       "2               [('Thunder line', 1), ('pearTV', 2)]        10670   \n",
       "3  [('Universe Note', 1), ('Alcon 10', 2), ('Oliv...        24800   \n",
       "4  [('Universe Note', 1), ('Olivia x460', 1), ('i...         9145   \n",
       "\n",
       "   delivery_charges  customer_lat  customer_long  coupon_discount  \\\n",
       "0             79.89    -37.815105     144.932843               10   \n",
       "1             62.71    -37.802736     144.951118                0   \n",
       "2             65.87    -37.821302     144.957581               10   \n",
       "3             57.61    -37.811416     144.973073               15   \n",
       "4             75.54     37.823859     144.969892               25   \n",
       "\n",
       "   order_total  season  is_expedited_delivery  distance_to_nearest_warehouse  \\\n",
       "0      1220.00  Winter                   True                         1.2800   \n",
       "1      9142.71  Summer                  False                         1.1621   \n",
       "2      1067.00  Autumn                  False                         1.0949   \n",
       "3      3720.00  Summer                  False                         0.8571   \n",
       "4      2286.25  Spring                  False                         0.5867   \n",
       "\n",
       "                              latest_customer_review  is_happy_customer  \n",
       "0  perfect phone and trusted seller. phone itself...               True  \n",
       "1  it keeps dropping calls the wifi don't work th...              False  \n",
       "2            five stars this is a great cheap phone.               True  \n",
       "3        charger did not fit the charger didn't fit.              False  \n",
       "4                                    four stars good               True  "
      ]
     },
     "execution_count": 195,
     "metadata": {},
     "output_type": "execute_result"
    }
   ],
   "source": [
    "#Displaying top 5 records of data without outliers\n",
    "data_without_outlier.head()"
   ]
  },
  {
   "cell_type": "code",
   "execution_count": 196,
   "id": "2fa1c24c",
   "metadata": {},
   "outputs": [
    {
     "data": {
      "text/plain": [
       "array([ True, False])"
      ]
     },
     "execution_count": 196,
     "metadata": {},
     "output_type": "execute_result"
    }
   ],
   "source": [
    "#Analyzing how many customers are happy with sevice\n",
    "data_without_outlier['is_happy_customer'].unique()"
   ]
  },
  {
   "cell_type": "code",
   "execution_count": 197,
   "id": "e366673d",
   "metadata": {},
   "outputs": [
    {
     "name": "stdout",
     "output_type": "stream",
     "text": [
      "True     301\n",
      "False    127\n",
      "Name: is_happy_customer, dtype: int64\n"
     ]
    }
   ],
   "source": [
    "satisfaction = data_without_outlier['is_happy_customer'].value_counts()\n",
    "print(satisfaction)"
   ]
  },
  {
   "cell_type": "code",
   "execution_count": 198,
   "id": "22302bf4",
   "metadata": {},
   "outputs": [
    {
     "data": {
      "image/png": "[encoded data removed]",
      "text/plain": [
       "<Figure size 1080x360 with 2 Axes>"
      ]
     },
     "metadata": {
      "needs_background": "light"
     },
     "output_type": "display_data"
    }
   ],
   "source": [
    "#Visualizing Data\n",
    "plt.figure(figsize=(15,5))\n",
    "\n",
    "plt.subplot(121)\n",
    "satisfaction.plot(kind='bar', color=['g','r'], rot=1)\n",
    "plt.xticks(range(2), labels=['Satisfy','Not Satifty'])\n",
    "plt.ylabel('Counts')\n",
    "plt.title(\"Customer satisfaction Vs Not satisfaction\\n\", size=15)\n",
    "\n",
    "\n",
    "plt.subplot(122)\n",
    "plt.pie(satisfaction, labels=['Satisfy','Not Satifty'], autopct=\"%.1f%%\",explode=[0,0.1],shadow=True)\n",
    "plt.title(\"Percentage of Customer satisfaction Vs Not satisfaction\\n\", size=15)\n",
    "\n",
    "plt.show()"
   ]
  },
  {
   "cell_type": "code",
   "execution_count": 199,
   "id": "fee596b5",
   "metadata": {},
   "outputs": [],
   "source": [
    "#70.3% customers are satisfy with service"
   ]
  }
 ],
 "metadata": {
  "kernelspec": {
   "display_name": "Python 3 (ipykernel)",
   "language": "python",
   "name": "python3"
  },
  "language_info": {
   "codemirror_mode": {
    "name": "ipython",
    "version": 3
   },
   "file_extension": ".py",
   "mimetype": "text/x-python",
   "name": "python",
   "nbconvert_exporter": "python",
   "pygments_lexer": "ipython3",
   "version": "3.9.12"
  }
 },
 "nbformat": 4,
 "nbformat_minor": 5
}
